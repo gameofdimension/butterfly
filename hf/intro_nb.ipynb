{
 "cells": [
  {
   "cell_type": "code",
   "execution_count": 1,
   "id": "e882b717-a70a-4f33-a1ad-90df76ca9132",
   "metadata": {},
   "outputs": [],
   "source": [
    "%load_ext autoreload\n",
    "%autoreload 2"
   ]
  },
  {
   "cell_type": "code",
   "execution_count": 4,
   "id": "10f5b1fe-d6c1-4001-893b-70dfaf0b06c4",
   "metadata": {},
   "outputs": [],
   "source": [
    "from common import show_images, figure_out_device\n",
    "from intro import get_data_loader, create_model, sample_images, train"
   ]
  },
  {
   "cell_type": "code",
   "execution_count": 8,
   "id": "a68c2e2a-b3fc-43ed-b81b-3da4a8f4cff6",
   "metadata": {},
   "outputs": [
    {
     "name": "stderr",
     "output_type": "stream",
     "text": [
      "Repo card metadata block was not found. Setting CardData to empty.\n"
     ]
    }
   ],
   "source": [
    "device = figure_out_device()\n",
    "image_size = 32\n",
    "dataloader = get_data_loader(image_size)\n",
    "model = create_model(image_size, device)"
   ]
  },
  {
   "cell_type": "code",
   "execution_count": null,
   "id": "ab2d4279-4861-4ecf-98df-4e384bb93f90",
   "metadata": {},
   "outputs": [
    {
     "name": "stderr",
     "output_type": "stream",
     "text": [
      "/Users/yzq/.virtualenvs/butterfly/lib/python3.9/site-packages/diffusers/configuration_utils.py:134: FutureWarning: Accessing config attribute `num_train_timesteps` directly via 'DDPMScheduler' object attribute is deprecated. Please access 'num_train_timesteps' over 'DDPMScheduler's config object instead, e.g. 'scheduler.config.num_train_timesteps'.\n",
      "  deprecate(\"direct config name access\", \"1.0.0\", deprecation_message, standard_warn=False)\n"
     ]
    },
    {
     "name": "stdout",
     "output_type": "stream",
     "text": [
      "Epoch:5, loss: 0.15874795941635966\n"
     ]
    }
   ],
   "source": [
    "scheduler, model = train(model, dataloader, device, 1000, 30)"
   ]
  },
  {
   "cell_type": "code",
   "execution_count": null,
   "id": "92b42024-b544-45fe-9c0e-09765b09e6f9",
   "metadata": {},
   "outputs": [],
   "source": []
  }
 ],
 "metadata": {
  "kernelspec": {
   "display_name": "Python 3 (ipykernel)",
   "language": "python",
   "name": "python3"
  },
  "language_info": {
   "codemirror_mode": {
    "name": "ipython",
    "version": 3
   },
   "file_extension": ".py",
   "mimetype": "text/x-python",
   "name": "python",
   "nbconvert_exporter": "python",
   "pygments_lexer": "ipython3",
   "version": "3.9.9"
  }
 },
 "nbformat": 4,
 "nbformat_minor": 5
}
